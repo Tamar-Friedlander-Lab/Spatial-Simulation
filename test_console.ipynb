{
 "cells": [
  {
   "cell_type": "code",
   "execution_count": 2,
   "metadata": {},
   "outputs": [
    {
     "name": "stderr",
     "output_type": "stream",
     "text": [
      "/home/korene/studies/venv/lib/python3.10/site-packages/tqdm/auto.py:22: TqdmWarning: IProgress not found. Please update jupyter and ipywidgets. See https://ipywidgets.readthedocs.io/en/stable/user_install.html\n",
      "  from .autonotebook import tqdm as notebook_tqdm\n"
     ]
    }
   ],
   "source": [
    "from model.world import Population, World\n",
    "import torch\n",
    "import torch.nn.functional as F\n",
    "import numpy as np\n",
    "import matplotlib.pyplot as plt"
   ]
  },
  {
   "cell_type": "code",
   "execution_count": 9,
   "metadata": {},
   "outputs": [
    {
     "data": {
      "text/plain": [
       "[0, 1, 2]"
      ]
     },
     "execution_count": 9,
     "metadata": {},
     "output_type": "execute_result"
    }
   ],
   "source": [
    "a = [0,1,2,3]\n",
    "a[:3]"
   ]
  },
  {
   "cell_type": "code",
   "execution_count": 8,
   "metadata": {},
   "outputs": [
    {
     "data": {
      "text/plain": [
       "tensor([[[8.7173e+01, 1.5078e+01, 2.0816e+01, 3.8187e+01, 7.8906e+01],\n",
       "         [8.3839e+01, 7.3818e+01, 5.1454e+01, 6.7449e+01, 3.2240e+01],\n",
       "         [1.0327e+01, 1.4467e+01, 1.5107e+01, 6.1280e+01, 8.4438e-01],\n",
       "         [4.2152e+01, 3.8777e+01, 5.4531e+01, 8.2214e+01, 3.6768e+01],\n",
       "         [3.5109e+01, 8.8549e+01, 8.0350e+01, 4.1497e+01, 7.3364e+01]],\n",
       "\n",
       "        [[9.2086e-01, 1.1502e-01, 4.7731e-01, 9.7583e-01, 8.4135e-01],\n",
       "         [4.3905e-01, 1.3713e-01, 2.8165e-02, 7.5504e-01, 5.6339e-01],\n",
       "         [1.7210e-01, 8.9700e-01, 2.9779e-01, 7.8351e-01, 8.7328e-01],\n",
       "         [1.6543e-01, 3.7197e-01, 1.9988e-01, 1.1657e-01, 4.4847e-01],\n",
       "         [4.6602e-02, 7.2143e-01, 9.8888e-01, 4.5189e-01, 4.2192e-02]]])"
      ]
     },
     "execution_count": 8,
     "metadata": {},
     "output_type": "execute_result"
    }
   ],
   "source": [
    "a = torch.eye(2).unsqueeze(-1).unsqueeze(-1)\n",
    "a[0,0,0,0]=100\n",
    "b = torch.rand(2,5,5)\n",
    "c = a*b\n",
    "c.diagonal(dim1=0,dim2=1).permute(2,0,1)"
   ]
  }
 ],
 "metadata": {
  "kernelspec": {
   "display_name": "Python 3.10.6 ('venv')",
   "language": "python",
   "name": "python3"
  },
  "language_info": {
   "codemirror_mode": {
    "name": "ipython",
    "version": 3
   },
   "file_extension": ".py",
   "mimetype": "text/x-python",
   "name": "python",
   "nbconvert_exporter": "python",
   "pygments_lexer": "ipython3",
   "version": "3.10.6"
  },
  "orig_nbformat": 4,
  "vscode": {
   "interpreter": {
    "hash": "9c16c46ee1dc0013f8923e6b169e5a87bdb28623cee04bf4e484a3366e51099e"
   }
  }
 },
 "nbformat": 4,
 "nbformat_minor": 2
}
