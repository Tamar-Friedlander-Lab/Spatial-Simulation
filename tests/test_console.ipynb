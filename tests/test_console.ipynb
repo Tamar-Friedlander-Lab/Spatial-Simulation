{
 "cells": [
  {
   "cell_type": "code",
   "execution_count": 2,
   "metadata": {},
   "outputs": [
    {
     "name": "stderr",
     "output_type": "stream",
     "text": [
      "/home/korene/studies/venv/lib/python3.10/site-packages/tqdm/auto.py:22: TqdmWarning: IProgress not found. Please update jupyter and ipywidgets. See https://ipywidgets.readthedocs.io/en/stable/user_install.html\n",
      "  from .autonotebook import tqdm as notebook_tqdm\n"
     ]
    },
    {
     "data": {
      "text/plain": [
       "tensor([[ 1.,  0.],\n",
       "        [ 0.,  1.],\n",
       "        [-1., -0.],\n",
       "        [-0., -1.]])"
      ]
     },
     "execution_count": 2,
     "metadata": {},
     "output_type": "execute_result"
    }
   ],
   "source": [
    "import torch\n",
    "from torch import Tensor\n",
    "\n",
    "a = torch.eye(2)\n",
    "b = torch.cat([a,-a])\n",
    "b"
   ]
  },
  {
   "cell_type": "code",
   "execution_count": 6,
   "metadata": {},
   "outputs": [
    {
     "data": {
      "text/plain": [
       "tensor([[0.0000, 1.4142, 2.0000, 1.4142],\n",
       "        [1.4142, 0.0000, 1.4142, 2.0000],\n",
       "        [2.0000, 1.4142, 0.0000, 1.4142],\n",
       "        [1.4142, 2.0000, 1.4142, 0.0000]])"
      ]
     },
     "execution_count": 6,
     "metadata": {},
     "output_type": "execute_result"
    }
   ],
   "source": [
    "pdist = torch.nn.PairwiseDistance()\n",
    "rr = torch.cdist(b, b, p=2)\n",
    "rr\n"
   ]
  },
  {
   "cell_type": "code",
   "execution_count": 7,
   "metadata": {},
   "outputs": [
    {
     "data": {
      "text/plain": [
       "tensor([[0.1466, 0.0387, 0.0102, 0.0387],\n",
       "        [0.0387, 0.1466, 0.0387, 0.0102],\n",
       "        [0.0102, 0.0387, 0.1466, 0.0387],\n",
       "        [0.0387, 0.0102, 0.0387, 0.1466]])"
      ]
     },
     "execution_count": 7,
     "metadata": {},
     "output_type": "execute_result"
    }
   ],
   "source": [
    "pollen_kernel = lambda r: torch.exp(-r**2 / 1.5) / 6.81978\n",
    "p = pollen_kernel(rr)\n",
    "p"
   ]
  },
  {
   "cell_type": "code",
   "execution_count": null,
   "metadata": {},
   "outputs": [],
   "source": []
  }
 ],
 "metadata": {
  "kernelspec": {
   "display_name": "Python 3.10.6 ('venv')",
   "language": "python",
   "name": "python3"
  },
  "language_info": {
   "codemirror_mode": {
    "name": "ipython",
    "version": 3
   },
   "file_extension": ".py",
   "mimetype": "text/x-python",
   "name": "python",
   "nbconvert_exporter": "python",
   "pygments_lexer": "ipython3",
   "version": "3.10.6"
  },
  "orig_nbformat": 4,
  "vscode": {
   "interpreter": {
    "hash": "9c16c46ee1dc0013f8923e6b169e5a87bdb28623cee04bf4e484a3366e51099e"
   }
  }
 },
 "nbformat": 4,
 "nbformat_minor": 2
}
